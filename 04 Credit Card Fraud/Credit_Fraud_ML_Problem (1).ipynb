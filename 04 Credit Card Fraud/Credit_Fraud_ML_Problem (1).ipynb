{
  "nbformat": 4,
  "nbformat_minor": 0,
  "metadata": {
    "colab": {
      "name": "Credit Fraud ML Problem",
      "provenance": []
    },
    "kernelspec": {
      "name": "python3",
      "display_name": "Python 3"
    },
    "language_info": {
      "name": "python"
    }
  },
  "cells": [
    {
      "cell_type": "markdown",
      "metadata": {
        "id": "8HH6KExo7ewo"
      },
      "source": [
        "# Credit Fraud\n",
        "\n",
        "This problem is to try and predict when a transaction is fraudulant"
      ]
    },
    {
      "cell_type": "markdown",
      "metadata": {
        "id": "aomeFEqZCAv9"
      },
      "source": [
        "## 0. Preparations"
      ]
    },
    {
      "cell_type": "markdown",
      "metadata": {
        "id": "H8APDajw-U23"
      },
      "source": [
        "### Import the libraries needed"
      ]
    },
    {
      "cell_type": "code",
      "metadata": {
        "colab": {
          "base_uri": "https://localhost:8080/"
        },
        "id": "wK5J4PDg-RfS",
        "outputId": "a3b9ab24-265a-44ee-f8f4-4d81391d6bc6"
      },
      "source": [
        "# Pip installs\n",
        "!pip install category_encoders==2.*\n",
        "\n",
        "# Import Libraries\n",
        "\n",
        "import glob\n",
        "\n",
        "# For model building\n",
        "from sklearn.pipeline import make_pipeline\n",
        "from sklearn.impute import SimpleImputer\n",
        "from sklearn.preprocessing import StandardScaler\n",
        "from sklearn.linear_model import LogisticRegression\n",
        "from sklearn.tree import DecisionTreeClassifier\n",
        "from sklearn.ensemble import RandomForestClassifier\n",
        "from sklearn.metrics import accuracy_score, classification_report, roc_curve, plot_confusion_matrix, plot_roc_curve, mean_absolute_error, mean_squared_error\n",
        "from sklearn.model_selection import train_test_split, cross_val_score, validation_curve # k-fold CV\n",
        "from sklearn.model_selection import GridSearchCV, RandomizedSearchCV # Hyperparameter tuning\n",
        "\n",
        "# For encoding categorical data\n",
        "from category_encoders import OneHotEncoder\n",
        "from category_encoders import OrdinalEncoder\n",
        "\n",
        "# Datetime manipulation\n",
        "from datetime import datetime\n",
        "\n",
        "# Libraries for data manipulation\n",
        "import numpy as np\n",
        "import pandas as pd\n",
        "\n",
        "# Libraries for plotting visuals\n",
        "import matplotlib.pyplot as plt"
      ],
      "execution_count": null,
      "outputs": [
        {
          "output_type": "stream",
          "text": [
            "Collecting category_encoders==2.*\n",
            "  Downloading category_encoders-2.2.2-py2.py3-none-any.whl (80 kB)\n",
            "\u001b[?25l\r\u001b[K     |████                            | 10 kB 23.8 MB/s eta 0:00:01\r\u001b[K     |████████▏                       | 20 kB 26.0 MB/s eta 0:00:01\r\u001b[K     |████████████▏                   | 30 kB 18.9 MB/s eta 0:00:01\r\u001b[K     |████████████████▎               | 40 kB 15.6 MB/s eta 0:00:01\r\u001b[K     |████████████████████▎           | 51 kB 12.2 MB/s eta 0:00:01\r\u001b[K     |████████████████████████▍       | 61 kB 13.0 MB/s eta 0:00:01\r\u001b[K     |████████████████████████████▍   | 71 kB 10.8 MB/s eta 0:00:01\r\u001b[K     |████████████████████████████████| 80 kB 3.9 MB/s \n",
            "\u001b[?25hRequirement already satisfied: scipy>=1.0.0 in /usr/local/lib/python3.7/dist-packages (from category_encoders==2.*) (1.4.1)\n",
            "Requirement already satisfied: numpy>=1.14.0 in /usr/local/lib/python3.7/dist-packages (from category_encoders==2.*) (1.19.5)\n",
            "Requirement already satisfied: pandas>=0.21.1 in /usr/local/lib/python3.7/dist-packages (from category_encoders==2.*) (1.1.5)\n",
            "Requirement already satisfied: scikit-learn>=0.20.0 in /usr/local/lib/python3.7/dist-packages (from category_encoders==2.*) (0.22.2.post1)\n",
            "Requirement already satisfied: patsy>=0.5.1 in /usr/local/lib/python3.7/dist-packages (from category_encoders==2.*) (0.5.1)\n",
            "Requirement already satisfied: statsmodels>=0.9.0 in /usr/local/lib/python3.7/dist-packages (from category_encoders==2.*) (0.10.2)\n",
            "Requirement already satisfied: python-dateutil>=2.7.3 in /usr/local/lib/python3.7/dist-packages (from pandas>=0.21.1->category_encoders==2.*) (2.8.2)\n",
            "Requirement already satisfied: pytz>=2017.2 in /usr/local/lib/python3.7/dist-packages (from pandas>=0.21.1->category_encoders==2.*) (2018.9)\n",
            "Requirement already satisfied: six in /usr/local/lib/python3.7/dist-packages (from patsy>=0.5.1->category_encoders==2.*) (1.15.0)\n",
            "Requirement already satisfied: joblib>=0.11 in /usr/local/lib/python3.7/dist-packages (from scikit-learn>=0.20.0->category_encoders==2.*) (1.0.1)\n",
            "Installing collected packages: category-encoders\n",
            "Successfully installed category-encoders-2.2.2\n"
          ],
          "name": "stdout"
        },
        {
          "output_type": "stream",
          "text": [
            "/usr/local/lib/python3.7/dist-packages/statsmodels/tools/_testing.py:19: FutureWarning: pandas.util.testing is deprecated. Use the functions in the public API at pandas.testing instead.\n",
            "  import pandas.util.testing as tm\n"
          ],
          "name": "stderr"
        }
      ]
    },
    {
      "cell_type": "markdown",
      "metadata": {
        "id": "61yySlut8VXR"
      },
      "source": [
        "### API set up to download the data from Kaggle"
      ]
    },
    {
      "cell_type": "code",
      "metadata": {
        "id": "22DpHF3bocHN",
        "colab": {
          "resources": {
            "http://localhost:8080/nbextensions/google.colab/files.js": {
              "data": "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",
              "ok": true,
              "headers": [
                [
                  "content-type",
                  "application/javascript"
                ]
              ],
              "status": 200,
              "status_text": ""
            }
          },
          "base_uri": "https://localhost:8080/",
          "height": 90
        },
        "outputId": "bd3bccf2-974a-45ac-a3d8-1a4e1be626b3"
      },
      "source": [
        "from google.colab import files\n",
        "\n",
        "\n",
        "uploaded = files.upload()\n",
        "\n",
        "for fn in uploaded.keys():\n",
        "  print('User uploaded file \"{name}\" with length {length} bytes'.format(\n",
        "      name=fn, length=len(uploaded[fn])))\n",
        "  \n",
        "# Then move kaggle.json into the folder where the API expects to find it.\n",
        "!mkdir -p ~/.kaggle/ && mv kaggle.json ~/.kaggle/ && chmod 600 ~/.kaggle/kaggle.json"
      ],
      "execution_count": null,
      "outputs": [
        {
          "output_type": "display_data",
          "data": {
            "text/html": [
              "\n",
              "     <input type=\"file\" id=\"files-f8b10e10-c319-4f01-ad69-8027853b742b\" name=\"files[]\" multiple disabled\n",
              "        style=\"border:none\" />\n",
              "     <output id=\"result-f8b10e10-c319-4f01-ad69-8027853b742b\">\n",
              "      Upload widget is only available when the cell has been executed in the\n",
              "      current browser session. Please rerun this cell to enable.\n",
              "      </output>\n",
              "      <script src=\"/nbextensions/google.colab/files.js\"></script> "
            ],
            "text/plain": [
              "<IPython.core.display.HTML object>"
            ]
          },
          "metadata": {}
        },
        {
          "output_type": "stream",
          "text": [
            "Saving kaggle.json to kaggle.json\n",
            "User uploaded file \"kaggle.json\" with length 70 bytes\n"
          ],
          "name": "stdout"
        }
      ]
    },
    {
      "cell_type": "code",
      "metadata": {
        "id": "oJnT4IR0cBuA",
        "colab": {
          "base_uri": "https://localhost:8080/"
        },
        "outputId": "f57da847-07dc-48f7-fee7-ed863d8b6605"
      },
      "source": [
        "# Downloading and Unzip\n",
        "!kaggle datasets download \"saurabhbagchi/credit-card-fraud-detection\";\n",
        "!unzip credit-card-fraud-detection.zip;"
      ],
      "execution_count": null,
      "outputs": [
        {
          "output_type": "stream",
          "text": [
            "Downloading credit-card-fraud-detection.zip to /content\n",
            " 32% 9.00M/28.1M [00:00<00:00, 21.4MB/s]\n",
            "100% 28.1M/28.1M [00:00<00:00, 52.1MB/s]\n",
            "Archive:  credit-card-fraud-detection.zip\n",
            "  inflating: simulated-data-raw-main/README.md  \n",
            "  inflating: simulated-data-raw-main/data/2018-04-01.pkl  \n",
            "  inflating: simulated-data-raw-main/data/2018-04-02.pkl  \n",
            "  inflating: simulated-data-raw-main/data/2018-04-03.pkl  \n",
            "  inflating: simulated-data-raw-main/data/2018-04-04.pkl  \n",
            "  inflating: simulated-data-raw-main/data/2018-04-05.pkl  \n",
            "  inflating: simulated-data-raw-main/data/2018-04-06.pkl  \n",
            "  inflating: simulated-data-raw-main/data/2018-04-07.pkl  \n",
            "  inflating: simulated-data-raw-main/data/2018-04-08.pkl  \n",
            "  inflating: simulated-data-raw-main/data/2018-04-09.pkl  \n",
            "  inflating: simulated-data-raw-main/data/2018-04-10.pkl  \n",
            "  inflating: simulated-data-raw-main/data/2018-04-11.pkl  \n",
            "  inflating: simulated-data-raw-main/data/2018-04-12.pkl  \n",
            "  inflating: simulated-data-raw-main/data/2018-04-13.pkl  \n",
            "  inflating: simulated-data-raw-main/data/2018-04-14.pkl  \n",
            "  inflating: simulated-data-raw-main/data/2018-04-15.pkl  \n",
            "  inflating: simulated-data-raw-main/data/2018-04-16.pkl  \n",
            "  inflating: simulated-data-raw-main/data/2018-04-17.pkl  \n",
            "  inflating: simulated-data-raw-main/data/2018-04-18.pkl  \n",
            "  inflating: simulated-data-raw-main/data/2018-04-19.pkl  \n",
            "  inflating: simulated-data-raw-main/data/2018-04-20.pkl  \n",
            "  inflating: simulated-data-raw-main/data/2018-04-21.pkl  \n",
            "  inflating: simulated-data-raw-main/data/2018-04-22.pkl  \n",
            "  inflating: simulated-data-raw-main/data/2018-04-23.pkl  \n",
            "  inflating: simulated-data-raw-main/data/2018-04-24.pkl  \n",
            "  inflating: simulated-data-raw-main/data/2018-04-25.pkl  \n",
            "  inflating: simulated-data-raw-main/data/2018-04-26.pkl  \n",
            "  inflating: simulated-data-raw-main/data/2018-04-27.pkl  \n",
            "  inflating: simulated-data-raw-main/data/2018-04-28.pkl  \n",
            "  inflating: simulated-data-raw-main/data/2018-04-29.pkl  \n",
            "  inflating: simulated-data-raw-main/data/2018-04-30.pkl  \n",
            "  inflating: simulated-data-raw-main/data/2018-05-01.pkl  \n",
            "  inflating: simulated-data-raw-main/data/2018-05-02.pkl  \n",
            "  inflating: simulated-data-raw-main/data/2018-05-03.pkl  \n",
            "  inflating: simulated-data-raw-main/data/2018-05-04.pkl  \n",
            "  inflating: simulated-data-raw-main/data/2018-05-05.pkl  \n",
            "  inflating: simulated-data-raw-main/data/2018-05-06.pkl  \n",
            "  inflating: simulated-data-raw-main/data/2018-05-07.pkl  \n",
            "  inflating: simulated-data-raw-main/data/2018-05-08.pkl  \n",
            "  inflating: simulated-data-raw-main/data/2018-05-09.pkl  \n",
            "  inflating: simulated-data-raw-main/data/2018-05-10.pkl  \n",
            "  inflating: simulated-data-raw-main/data/2018-05-11.pkl  \n",
            "  inflating: simulated-data-raw-main/data/2018-05-12.pkl  \n",
            "  inflating: simulated-data-raw-main/data/2018-05-13.pkl  \n",
            "  inflating: simulated-data-raw-main/data/2018-05-14.pkl  \n",
            "  inflating: simulated-data-raw-main/data/2018-05-15.pkl  \n",
            "  inflating: simulated-data-raw-main/data/2018-05-16.pkl  \n",
            "  inflating: simulated-data-raw-main/data/2018-05-17.pkl  \n",
            "  inflating: simulated-data-raw-main/data/2018-05-18.pkl  \n",
            "  inflating: simulated-data-raw-main/data/2018-05-19.pkl  \n",
            "  inflating: simulated-data-raw-main/data/2018-05-20.pkl  \n",
            "  inflating: simulated-data-raw-main/data/2018-05-21.pkl  \n",
            "  inflating: simulated-data-raw-main/data/2018-05-22.pkl  \n",
            "  inflating: simulated-data-raw-main/data/2018-05-23.pkl  \n",
            "  inflating: simulated-data-raw-main/data/2018-05-24.pkl  \n",
            "  inflating: simulated-data-raw-main/data/2018-05-25.pkl  \n",
            "  inflating: simulated-data-raw-main/data/2018-05-26.pkl  \n",
            "  inflating: simulated-data-raw-main/data/2018-05-27.pkl  \n",
            "  inflating: simulated-data-raw-main/data/2018-05-28.pkl  \n",
            "  inflating: simulated-data-raw-main/data/2018-05-29.pkl  \n",
            "  inflating: simulated-data-raw-main/data/2018-05-30.pkl  \n",
            "  inflating: simulated-data-raw-main/data/2018-05-31.pkl  \n",
            "  inflating: simulated-data-raw-main/data/2018-06-01.pkl  \n",
            "  inflating: simulated-data-raw-main/data/2018-06-02.pkl  \n",
            "  inflating: simulated-data-raw-main/data/2018-06-03.pkl  \n",
            "  inflating: simulated-data-raw-main/data/2018-06-04.pkl  \n",
            "  inflating: simulated-data-raw-main/data/2018-06-05.pkl  \n",
            "  inflating: simulated-data-raw-main/data/2018-06-06.pkl  \n",
            "  inflating: simulated-data-raw-main/data/2018-06-07.pkl  \n",
            "  inflating: simulated-data-raw-main/data/2018-06-08.pkl  \n",
            "  inflating: simulated-data-raw-main/data/2018-06-09.pkl  \n",
            "  inflating: simulated-data-raw-main/data/2018-06-10.pkl  \n",
            "  inflating: simulated-data-raw-main/data/2018-06-11.pkl  \n",
            "  inflating: simulated-data-raw-main/data/2018-06-12.pkl  \n",
            "  inflating: simulated-data-raw-main/data/2018-06-13.pkl  \n",
            "  inflating: simulated-data-raw-main/data/2018-06-14.pkl  \n",
            "  inflating: simulated-data-raw-main/data/2018-06-15.pkl  \n",
            "  inflating: simulated-data-raw-main/data/2018-06-16.pkl  \n",
            "  inflating: simulated-data-raw-main/data/2018-06-17.pkl  \n",
            "  inflating: simulated-data-raw-main/data/2018-06-18.pkl  \n",
            "  inflating: simulated-data-raw-main/data/2018-06-19.pkl  \n",
            "  inflating: simulated-data-raw-main/data/2018-06-20.pkl  \n",
            "  inflating: simulated-data-raw-main/data/2018-06-21.pkl  \n",
            "  inflating: simulated-data-raw-main/data/2018-06-22.pkl  \n",
            "  inflating: simulated-data-raw-main/data/2018-06-23.pkl  \n",
            "  inflating: simulated-data-raw-main/data/2018-06-24.pkl  \n",
            "  inflating: simulated-data-raw-main/data/2018-06-25.pkl  \n",
            "  inflating: simulated-data-raw-main/data/2018-06-26.pkl  \n",
            "  inflating: simulated-data-raw-main/data/2018-06-27.pkl  \n",
            "  inflating: simulated-data-raw-main/data/2018-06-28.pkl  \n",
            "  inflating: simulated-data-raw-main/data/2018-06-29.pkl  \n",
            "  inflating: simulated-data-raw-main/data/2018-06-30.pkl  \n",
            "  inflating: simulated-data-raw-main/data/2018-07-01.pkl  \n",
            "  inflating: simulated-data-raw-main/data/2018-07-02.pkl  \n",
            "  inflating: simulated-data-raw-main/data/2018-07-03.pkl  \n",
            "  inflating: simulated-data-raw-main/data/2018-07-04.pkl  \n",
            "  inflating: simulated-data-raw-main/data/2018-07-05.pkl  \n",
            "  inflating: simulated-data-raw-main/data/2018-07-06.pkl  \n",
            "  inflating: simulated-data-raw-main/data/2018-07-07.pkl  \n",
            "  inflating: simulated-data-raw-main/data/2018-07-08.pkl  \n",
            "  inflating: simulated-data-raw-main/data/2018-07-09.pkl  \n",
            "  inflating: simulated-data-raw-main/data/2018-07-10.pkl  \n",
            "  inflating: simulated-data-raw-main/data/2018-07-11.pkl  \n",
            "  inflating: simulated-data-raw-main/data/2018-07-12.pkl  \n",
            "  inflating: simulated-data-raw-main/data/2018-07-13.pkl  \n",
            "  inflating: simulated-data-raw-main/data/2018-07-14.pkl  \n",
            "  inflating: simulated-data-raw-main/data/2018-07-15.pkl  \n",
            "  inflating: simulated-data-raw-main/data/2018-07-16.pkl  \n",
            "  inflating: simulated-data-raw-main/data/2018-07-17.pkl  \n",
            "  inflating: simulated-data-raw-main/data/2018-07-18.pkl  \n",
            "  inflating: simulated-data-raw-main/data/2018-07-19.pkl  \n",
            "  inflating: simulated-data-raw-main/data/2018-07-20.pkl  \n",
            "  inflating: simulated-data-raw-main/data/2018-07-21.pkl  \n",
            "  inflating: simulated-data-raw-main/data/2018-07-22.pkl  \n",
            "  inflating: simulated-data-raw-main/data/2018-07-23.pkl  \n",
            "  inflating: simulated-data-raw-main/data/2018-07-24.pkl  \n",
            "  inflating: simulated-data-raw-main/data/2018-07-25.pkl  \n",
            "  inflating: simulated-data-raw-main/data/2018-07-26.pkl  \n",
            "  inflating: simulated-data-raw-main/data/2018-07-27.pkl  \n",
            "  inflating: simulated-data-raw-main/data/2018-07-28.pkl  \n",
            "  inflating: simulated-data-raw-main/data/2018-07-29.pkl  \n",
            "  inflating: simulated-data-raw-main/data/2018-07-30.pkl  \n",
            "  inflating: simulated-data-raw-main/data/2018-07-31.pkl  \n",
            "  inflating: simulated-data-raw-main/data/2018-08-01.pkl  \n",
            "  inflating: simulated-data-raw-main/data/2018-08-02.pkl  \n",
            "  inflating: simulated-data-raw-main/data/2018-08-03.pkl  \n",
            "  inflating: simulated-data-raw-main/data/2018-08-04.pkl  \n",
            "  inflating: simulated-data-raw-main/data/2018-08-05.pkl  \n",
            "  inflating: simulated-data-raw-main/data/2018-08-06.pkl  \n",
            "  inflating: simulated-data-raw-main/data/2018-08-07.pkl  \n",
            "  inflating: simulated-data-raw-main/data/2018-08-08.pkl  \n",
            "  inflating: simulated-data-raw-main/data/2018-08-09.pkl  \n",
            "  inflating: simulated-data-raw-main/data/2018-08-10.pkl  \n",
            "  inflating: simulated-data-raw-main/data/2018-08-11.pkl  \n",
            "  inflating: simulated-data-raw-main/data/2018-08-12.pkl  \n",
            "  inflating: simulated-data-raw-main/data/2018-08-13.pkl  \n",
            "  inflating: simulated-data-raw-main/data/2018-08-14.pkl  \n",
            "  inflating: simulated-data-raw-main/data/2018-08-15.pkl  \n",
            "  inflating: simulated-data-raw-main/data/2018-08-16.pkl  \n",
            "  inflating: simulated-data-raw-main/data/2018-08-17.pkl  \n",
            "  inflating: simulated-data-raw-main/data/2018-08-18.pkl  \n",
            "  inflating: simulated-data-raw-main/data/2018-08-19.pkl  \n",
            "  inflating: simulated-data-raw-main/data/2018-08-20.pkl  \n",
            "  inflating: simulated-data-raw-main/data/2018-08-21.pkl  \n",
            "  inflating: simulated-data-raw-main/data/2018-08-22.pkl  \n",
            "  inflating: simulated-data-raw-main/data/2018-08-23.pkl  \n",
            "  inflating: simulated-data-raw-main/data/2018-08-24.pkl  \n",
            "  inflating: simulated-data-raw-main/data/2018-08-25.pkl  \n",
            "  inflating: simulated-data-raw-main/data/2018-08-26.pkl  \n",
            "  inflating: simulated-data-raw-main/data/2018-08-27.pkl  \n",
            "  inflating: simulated-data-raw-main/data/2018-08-28.pkl  \n",
            "  inflating: simulated-data-raw-main/data/2018-08-29.pkl  \n",
            "  inflating: simulated-data-raw-main/data/2018-08-30.pkl  \n",
            "  inflating: simulated-data-raw-main/data/2018-08-31.pkl  \n",
            "  inflating: simulated-data-raw-main/data/2018-09-01.pkl  \n",
            "  inflating: simulated-data-raw-main/data/2018-09-02.pkl  \n",
            "  inflating: simulated-data-raw-main/data/2018-09-03.pkl  \n",
            "  inflating: simulated-data-raw-main/data/2018-09-04.pkl  \n",
            "  inflating: simulated-data-raw-main/data/2018-09-05.pkl  \n",
            "  inflating: simulated-data-raw-main/data/2018-09-06.pkl  \n",
            "  inflating: simulated-data-raw-main/data/2018-09-07.pkl  \n",
            "  inflating: simulated-data-raw-main/data/2018-09-08.pkl  \n",
            "  inflating: simulated-data-raw-main/data/2018-09-09.pkl  \n",
            "  inflating: simulated-data-raw-main/data/2018-09-10.pkl  \n",
            "  inflating: simulated-data-raw-main/data/2018-09-11.pkl  \n",
            "  inflating: simulated-data-raw-main/data/2018-09-12.pkl  \n",
            "  inflating: simulated-data-raw-main/data/2018-09-13.pkl  \n",
            "  inflating: simulated-data-raw-main/data/2018-09-14.pkl  \n",
            "  inflating: simulated-data-raw-main/data/2018-09-15.pkl  \n",
            "  inflating: simulated-data-raw-main/data/2018-09-16.pkl  \n",
            "  inflating: simulated-data-raw-main/data/2018-09-17.pkl  \n",
            "  inflating: simulated-data-raw-main/data/2018-09-18.pkl  \n",
            "  inflating: simulated-data-raw-main/data/2018-09-19.pkl  \n",
            "  inflating: simulated-data-raw-main/data/2018-09-20.pkl  \n",
            "  inflating: simulated-data-raw-main/data/2018-09-21.pkl  \n",
            "  inflating: simulated-data-raw-main/data/2018-09-22.pkl  \n",
            "  inflating: simulated-data-raw-main/data/2018-09-23.pkl  \n",
            "  inflating: simulated-data-raw-main/data/2018-09-24.pkl  \n",
            "  inflating: simulated-data-raw-main/data/2018-09-25.pkl  \n",
            "  inflating: simulated-data-raw-main/data/2018-09-26.pkl  \n",
            "  inflating: simulated-data-raw-main/data/2018-09-27.pkl  \n",
            "  inflating: simulated-data-raw-main/data/2018-09-28.pkl  \n",
            "  inflating: simulated-data-raw-main/data/2018-09-29.pkl  \n",
            "  inflating: simulated-data-raw-main/data/2018-09-30.pkl  \n"
          ],
          "name": "stdout"
        }
      ]
    },
    {
      "cell_type": "markdown",
      "metadata": {
        "id": "5iLFecTTBQUp"
      },
      "source": [
        "## I. Wrangle Data"
      ]
    },
    {
      "cell_type": "code",
      "metadata": {
        "id": "R5zUU2OavGfo",
        "colab": {
          "base_uri": "https://localhost:8080/",
          "height": 220
        },
        "outputId": "0c9b54b6-5bf4-42bb-9c34-dd8ccc51faf3"
      },
      "source": [
        "def wrangle():\n",
        "# Import\n",
        "  path =r'simulated-data-raw-main/data'\n",
        "  filenames = glob.glob(path + \"/*.pkl\")\n",
        "\n",
        "  dfs = []\n",
        "  for filename in filenames:\n",
        "      dfs.append(pd.read_pickle(filename))\n",
        "\n",
        "  # Concatenate all data into one DataFrame\n",
        "  df = pd.concat(dfs, ignore_index=True)\n",
        "# Sort\n",
        "  df = df.sort_values([\"CUSTOMER_ID\", \"TX_DATETIME\"], ascending = (True, True)).reset_index(drop=True)\n",
        "\n",
        "# Rename Columns\n",
        "  df.columns = ['Transaction_id', 'Datetime', 'Customer_id', 'Terminal_id', 'Amount', 'Time_seconds', 'Time_days', 'Fraud', 'Fraud_scenario']\n",
        "\n",
        "# Change dtypes of columns\n",
        "  convert_dict = {'Time_seconds': int,'Time_days': int}\n",
        "  df = df.astype(convert_dict)\n",
        "\n",
        "# Create New Columns\n",
        "  # Day of the Week (Mon, Tue, Wed, ... etc)\n",
        "  df['Weekday'] = df['Datetime'].dt.day_name()\n",
        "\n",
        "  # Amount of last transaction for customer\n",
        "  df.loc[df['Customer_id'] == df['Customer_id'].shift(1),'Customer_last_transaction_amount'] = df['Amount'].shift(1)\n",
        "\n",
        "  # Last Terminal \n",
        "  \n",
        "  # Time since last transaction for customer\n",
        "  df.loc[df['Customer_id'] == df['Customer_id'].shift(1),'Time_since_last_cust_transaction'] = round((df['Datetime']-df['Datetime'].shift(1)).dt.total_seconds()/3600,1)\n",
        "\n",
        "# Drop columns with high number of NaN Values\n",
        "  df.dropna(axis = 1,thresh = 300, inplace = True)\n",
        "\n",
        "# Drop columns with HCCC\n",
        "  cutoff = 100\n",
        "  drop_cols = [col for col in df.select_dtypes('object').columns\n",
        "                if df[col].nunique() > cutoff]\n",
        "  df.drop(columns=drop_cols, inplace=True)\n",
        "\n",
        "# Columns to drop to prevent leakage\n",
        "  drop_cols = ['Fraud_scenario', 'Datetime']\n",
        "  df = df.drop(columns = drop_cols)\n",
        "\n",
        "# Balance out the target variable\n",
        "  print('Baseline Accuracy:', df['Fraud'].value_counts(normalize=True).max())\n",
        "  # # df_yes = all yes\n",
        "  # df_yes = df.loc[df['Fraud'] == 1]\n",
        "\n",
        "  # # df_no = all no\n",
        "  # df_no = df.loc[df['Fraud'] == 0]\n",
        "\n",
        "  # randomly pick 10000 yes's\n",
        "  df_yes = df.loc[df['Fraud'] == 1].sample(10000,replace=True, random_state=35)\n",
        "\n",
        "  # randomly pick 20000 no's\n",
        "  df_no = df.loc[df['Fraud'] == 0].sample(20000, replace=False, random_state=35)\n",
        "\n",
        "  # concat yes and no df together and replace over old df\n",
        "  df = pd.concat([df_yes, df_no])\n",
        "\n",
        "  return df\n",
        "\n",
        "df = wrangle()\n",
        "display(df.head())"
      ],
      "execution_count": null,
      "outputs": [
        {
          "output_type": "stream",
          "text": [
            "Baseline Accuracy: 0.9916307281853656\n"
          ],
          "name": "stdout"
        },
        {
          "output_type": "display_data",
          "data": {
            "text/html": [
              "<div>\n",
              "<style scoped>\n",
              "    .dataframe tbody tr th:only-of-type {\n",
              "        vertical-align: middle;\n",
              "    }\n",
              "\n",
              "    .dataframe tbody tr th {\n",
              "        vertical-align: top;\n",
              "    }\n",
              "\n",
              "    .dataframe thead th {\n",
              "        text-align: right;\n",
              "    }\n",
              "</style>\n",
              "<table border=\"1\" class=\"dataframe\">\n",
              "  <thead>\n",
              "    <tr style=\"text-align: right;\">\n",
              "      <th></th>\n",
              "      <th>Transaction_id</th>\n",
              "      <th>Amount</th>\n",
              "      <th>Time_seconds</th>\n",
              "      <th>Time_days</th>\n",
              "      <th>Fraud</th>\n",
              "      <th>Weekday</th>\n",
              "      <th>Customer_last_transaction_amount</th>\n",
              "      <th>Time_since_last_cust_transaction</th>\n",
              "    </tr>\n",
              "  </thead>\n",
              "  <tbody>\n",
              "    <tr>\n",
              "      <th>672878</th>\n",
              "      <td>42307</td>\n",
              "      <td>75.25</td>\n",
              "      <td>383957</td>\n",
              "      <td>4</td>\n",
              "      <td>1</td>\n",
              "      <td>Thursday</td>\n",
              "      <td>11.68</td>\n",
              "      <td>6.7</td>\n",
              "    </tr>\n",
              "    <tr>\n",
              "      <th>137424</th>\n",
              "      <td>621432</td>\n",
              "      <td>366.55</td>\n",
              "      <td>5588107</td>\n",
              "      <td>64</td>\n",
              "      <td>1</td>\n",
              "      <td>Monday</td>\n",
              "      <td>30.61</td>\n",
              "      <td>1.3</td>\n",
              "    </tr>\n",
              "    <tr>\n",
              "      <th>1058609</th>\n",
              "      <td>1293776</td>\n",
              "      <td>89.01</td>\n",
              "      <td>11651561</td>\n",
              "      <td>134</td>\n",
              "      <td>1</td>\n",
              "      <td>Monday</td>\n",
              "      <td>156.18</td>\n",
              "      <td>10.1</td>\n",
              "    </tr>\n",
              "    <tr>\n",
              "      <th>831429</th>\n",
              "      <td>1250861</td>\n",
              "      <td>36.05</td>\n",
              "      <td>11272778</td>\n",
              "      <td>130</td>\n",
              "      <td>1</td>\n",
              "      <td>Thursday</td>\n",
              "      <td>125.00</td>\n",
              "      <td>18.1</td>\n",
              "    </tr>\n",
              "    <tr>\n",
              "      <th>337493</th>\n",
              "      <td>390071</td>\n",
              "      <td>84.46</td>\n",
              "      <td>3505572</td>\n",
              "      <td>40</td>\n",
              "      <td>1</td>\n",
              "      <td>Friday</td>\n",
              "      <td>73.48</td>\n",
              "      <td>0.3</td>\n",
              "    </tr>\n",
              "  </tbody>\n",
              "</table>\n",
              "</div>"
            ],
            "text/plain": [
              "         Transaction_id  ...  Time_since_last_cust_transaction\n",
              "672878            42307  ...                               6.7\n",
              "137424           621432  ...                               1.3\n",
              "1058609         1293776  ...                              10.1\n",
              "831429          1250861  ...                              18.1\n",
              "337493           390071  ...                               0.3\n",
              "\n",
              "[5 rows x 8 columns]"
            ]
          },
          "metadata": {}
        }
      ]
    },
    {
      "cell_type": "markdown",
      "metadata": {
        "id": "C1_-kKBzBnYB"
      },
      "source": [
        "## II. Split Data"
      ]
    },
    {
      "cell_type": "code",
      "metadata": {
        "colab": {
          "base_uri": "https://localhost:8080/"
        },
        "id": "mXUmDRbDwU59",
        "outputId": "4460b3bc-69fe-4353-de00-25edc524edef"
      },
      "source": [
        "# Separate FM and TV\n",
        "target = 'Fraud'\n",
        "y = df[target]\n",
        "X = df.drop(columns = target)\n",
        "\n",
        "# Split train-test data by random\n",
        "X_train, X_test, y_train, y_test = train_test_split(X,y,test_size=0.20)\n",
        "\n",
        "# Split train-test data by random\n",
        "X_train, X_val, y_train, y_val = train_test_split(X_train,y_train,test_size=0.25)\n",
        "\n",
        "print(f'Training shape {X_train.shape}\\nTesting shape {X_test.shape}\\nValidation shape{X_val.shape}')"
      ],
      "execution_count": null,
      "outputs": [
        {
          "output_type": "stream",
          "text": [
            "Training shape (18000, 7)\n",
            "Testing shape (6000, 7)\n",
            "Validation shape(6000, 7)\n"
          ],
          "name": "stdout"
        }
      ]
    },
    {
      "cell_type": "markdown",
      "metadata": {
        "id": "s0aeNyphCJbJ"
      },
      "source": [
        "## III. Establish Baseline"
      ]
    },
    {
      "cell_type": "code",
      "metadata": {
        "colab": {
          "base_uri": "https://localhost:8080/"
        },
        "id": "7d8-OCz5CLIQ",
        "outputId": "452766bc-72c4-4151-eafc-8df210d8d7a3"
      },
      "source": [
        "print('Baseline Accuracy:', y.value_counts(normalize=True).max())"
      ],
      "execution_count": null,
      "outputs": [
        {
          "output_type": "stream",
          "text": [
            "Baseline Accuracy: 0.6666666666666666\n"
          ],
          "name": "stdout"
        }
      ]
    },
    {
      "cell_type": "markdown",
      "metadata": {
        "id": "ohJ0PaolCS8N"
      },
      "source": [
        "## IV. Build Model"
      ]
    },
    {
      "cell_type": "markdown",
      "metadata": {
        "id": "IuC6nhrICdsQ"
      },
      "source": [
        "- `LogisticRegression`"
      ]
    },
    {
      "cell_type": "code",
      "metadata": {
        "colab": {
          "base_uri": "https://localhost:8080/"
        },
        "id": "UPdJvydHCV_u",
        "outputId": "af30ae52-2f2d-4d84-b91d-f9309f3596fd"
      },
      "source": [
        "model_lr = make_pipeline(OneHotEncoder(use_cat_names=True),\n",
        "                        SimpleImputer(strategy='mean'),\n",
        "                        StandardScaler(),\n",
        "                        LogisticRegression());\n",
        "model_lr.fit(X_train,y_train);"
      ],
      "execution_count": null,
      "outputs": [
        {
          "output_type": "stream",
          "text": [
            "/usr/local/lib/python3.7/dist-packages/category_encoders/utils.py:21: FutureWarning: is_categorical is deprecated and will be removed in a future version.  Use is_categorical_dtype instead\n",
            "  elif pd.api.types.is_categorical(cols):\n"
          ],
          "name": "stderr"
        }
      ]
    },
    {
      "cell_type": "markdown",
      "metadata": {
        "id": "wDIQ8wgMDq-R"
      },
      "source": [
        "- `DecisionTreeClassifier`\n"
      ]
    },
    {
      "cell_type": "code",
      "metadata": {
        "colab": {
          "base_uri": "https://localhost:8080/"
        },
        "id": "oLIvEls2EGVY",
        "outputId": "c16473ee-673e-4e31-c6dd-e749efac3aae"
      },
      "source": [
        "model_dt = make_pipeline(OneHotEncoder(use_cat_names=True),\n",
        "                        SimpleImputer(strategy='mean'),\n",
        "                        StandardScaler(),\n",
        "                        DecisionTreeClassifier(random_state=42));\n",
        "model_dt.fit(X_train,y_train);"
      ],
      "execution_count": null,
      "outputs": [
        {
          "output_type": "stream",
          "text": [
            "/usr/local/lib/python3.7/dist-packages/category_encoders/utils.py:21: FutureWarning: is_categorical is deprecated and will be removed in a future version.  Use is_categorical_dtype instead\n",
            "  elif pd.api.types.is_categorical(cols):\n"
          ],
          "name": "stderr"
        }
      ]
    },
    {
      "cell_type": "markdown",
      "metadata": {
        "id": "at0OH3aMDu0N"
      },
      "source": [
        "- `RandomForestClassifier`"
      ]
    },
    {
      "cell_type": "code",
      "metadata": {
        "colab": {
          "base_uri": "https://localhost:8080/"
        },
        "id": "nIkw8FNyEJUU",
        "outputId": "5194cc21-0dcb-4c0b-8cde-e67bf8f45d5d"
      },
      "source": [
        "model_rf = make_pipeline(OneHotEncoder(use_cat_names=True),\n",
        "                        SimpleImputer(strategy='mean'),\n",
        "                        StandardScaler(),\n",
        "                        RandomForestClassifier(random_state=42,n_jobs=-1));\n",
        "model_rf.fit(X_train,y_train);"
      ],
      "execution_count": null,
      "outputs": [
        {
          "output_type": "stream",
          "text": [
            "/usr/local/lib/python3.7/dist-packages/category_encoders/utils.py:21: FutureWarning: is_categorical is deprecated and will be removed in a future version.  Use is_categorical_dtype instead\n",
            "  elif pd.api.types.is_categorical(cols):\n"
          ],
          "name": "stderr"
        }
      ]
    },
    {
      "cell_type": "markdown",
      "metadata": {
        "id": "WXMEd1tTERAH"
      },
      "source": [
        "## V. Check Metrics"
      ]
    },
    {
      "cell_type": "code",
      "metadata": {
        "colab": {
          "base_uri": "https://localhost:8080/"
        },
        "id": "i2EYBDw3Ev9L",
        "outputId": "78c63e48-6b30-4321-b0d9-07d712252bbe"
      },
      "source": [
        "print('Training Accuracy (LOGR):', model_lr.score(X_train, y_train))\n",
        "print('Validation Accuracy (LOGR):', model_lr.score(X_val, y_val))"
      ],
      "execution_count": null,
      "outputs": [
        {
          "output_type": "stream",
          "text": [
            "Training Accuracy (LOGR): 0.7390555555555556\n",
            "Validation Accuracy (LOGR): 0.7451666666666666\n"
          ],
          "name": "stdout"
        }
      ]
    },
    {
      "cell_type": "code",
      "metadata": {
        "colab": {
          "base_uri": "https://localhost:8080/"
        },
        "id": "e4f8AmKTFJfE",
        "outputId": "65d81b2f-6a73-4799-d787-17850f54607f"
      },
      "source": [
        "print('Training accuracy (TREE):', model_dt.score(X_train,y_train))\n",
        "print('Validation accuracy (TREE):', model_dt.score(X_val,y_val))"
      ],
      "execution_count": null,
      "outputs": [
        {
          "output_type": "stream",
          "text": [
            "Training accuracy (TREE): 1.0\n",
            "Validation accuracy (TREE): 0.7145\n"
          ],
          "name": "stdout"
        }
      ]
    },
    {
      "cell_type": "code",
      "metadata": {
        "id": "bJeP3RHAva62",
        "colab": {
          "base_uri": "https://localhost:8080/"
        },
        "outputId": "6b8866df-6578-462f-c6c3-7204c538a767"
      },
      "source": [
        "print('Training Accuracy (RF):', model_rf.score(X_train, y_train))\n",
        "print('Validation Accuracy (RF):', model_rf.score(X_val, y_val))"
      ],
      "execution_count": null,
      "outputs": [
        {
          "output_type": "stream",
          "text": [
            "Training Accuracy (RF): 1.0\n",
            "Validation Accuracy (RF): 0.8243333333333334\n"
          ],
          "name": "stdout"
        }
      ]
    },
    {
      "cell_type": "markdown",
      "metadata": {
        "id": "PciwyUYgtMB0"
      },
      "source": [
        "# VII. Tune Model\n",
        "\n",
        "- What are important hyperparameters for `RandomForestClassifier`?\n",
        "  - `max_depth`: 5-35\n",
        "  - `n_estimators` 25-100\n",
        "  - imputation strategy"
      ]
    },
    {
      "cell_type": "markdown",
      "metadata": {
        "id": "SRL-I2ensgom"
      },
      "source": [
        "**`GridSearch`:** Very thourough, but it can take a long time.\n",
        "\n",
        "Test out every single combination of hyperparameters that we provide it\n",
        "**and** it's going to use cross-validation."
      ]
    },
    {
      "cell_type": "code",
      "metadata": {
        "colab": {
          "base_uri": "https://localhost:8080/"
        },
        "id": "J24skG9RsUG2",
        "outputId": "182c0658-0e44-4f6e-fc37-c0468d3d5632"
      },
      "source": [
        "clf = make_pipeline(OneHotEncoder(),\n",
        "                    SimpleImputer(),\n",
        "                    StandardScaler(),\n",
        "                    RandomForestClassifier(random_state=42, n_jobs = -1))\n",
        "\n",
        "param_grid = {'simpleimputer__strategy':['median','mean'], # 2 possible values\n",
        "             'randomforestclassifier__max_depth':range(5,35,5), # 6 possible values\n",
        "             'randomforestclassifier__n_estimators':range(10,100,10)} # 9 possible values\n",
        "\n",
        "model_rfgs = GridSearchCV(clf,\n",
        "                         param_grid = param_grid,\n",
        "                         n_jobs=-1,\n",
        "                         cv = 5,\n",
        "                         verbose = 1)\n",
        "\n",
        "model_rfgs.fit(X_train,y_train)"
      ],
      "execution_count": null,
      "outputs": [
        {
          "output_type": "stream",
          "text": [
            "Fitting 5 folds for each of 108 candidates, totalling 540 fits\n"
          ],
          "name": "stdout"
        },
        {
          "output_type": "stream",
          "text": [
            "[Parallel(n_jobs=-1)]: Using backend LokyBackend with 2 concurrent workers.\n",
            "[Parallel(n_jobs=-1)]: Done  46 tasks      | elapsed:   13.1s\n",
            "[Parallel(n_jobs=-1)]: Done 196 tasks      | elapsed:  1.5min\n",
            "[Parallel(n_jobs=-1)]: Done 446 tasks      | elapsed:  5.2min\n",
            "[Parallel(n_jobs=-1)]: Done 540 out of 540 | elapsed:  6.8min finished\n",
            "/usr/local/lib/python3.7/dist-packages/category_encoders/utils.py:21: FutureWarning: is_categorical is deprecated and will be removed in a future version.  Use is_categorical_dtype instead\n",
            "  elif pd.api.types.is_categorical(cols):\n"
          ],
          "name": "stderr"
        },
        {
          "output_type": "execute_result",
          "data": {
            "text/plain": [
              "GridSearchCV(cv=5, error_score=nan,\n",
              "             estimator=Pipeline(memory=None,\n",
              "                                steps=[('onehotencoder',\n",
              "                                        OneHotEncoder(cols=None,\n",
              "                                                      drop_invariant=False,\n",
              "                                                      handle_missing='value',\n",
              "                                                      handle_unknown='value',\n",
              "                                                      return_df=True,\n",
              "                                                      use_cat_names=False,\n",
              "                                                      verbose=0)),\n",
              "                                       ('simpleimputer',\n",
              "                                        SimpleImputer(add_indicator=False,\n",
              "                                                      copy=True,\n",
              "                                                      fill_value=None,\n",
              "                                                      missing_values=nan,\n",
              "                                                      strategy='mean',\n",
              "                                                      verbose=0))...\n",
              "                                                               oob_score=False,\n",
              "                                                               random_state=42,\n",
              "                                                               verbose=0,\n",
              "                                                               warm_start=False))],\n",
              "                                verbose=False),\n",
              "             iid='deprecated', n_jobs=-1,\n",
              "             param_grid={'randomforestclassifier__max_depth': range(5, 35, 5),\n",
              "                         'randomforestclassifier__n_estimators': range(10, 100, 10),\n",
              "                         'simpleimputer__strategy': ['median', 'mean']},\n",
              "             pre_dispatch='2*n_jobs', refit=True, return_train_score=False,\n",
              "             scoring=None, verbose=1)"
            ]
          },
          "metadata": {},
          "execution_count": 45
        }
      ]
    },
    {
      "cell_type": "code",
      "metadata": {
        "colab": {
          "base_uri": "https://localhost:8080/"
        },
        "id": "9P41bmVms5EU",
        "outputId": "a00a51d6-0bbb-4cb6-a8e5-f717cc1c9710"
      },
      "source": [
        "print('The best params:', model_rfgs.best_params_)\n",
        "print('The best accuracy score for the grid search is:', model_rfgs.best_score_)\n",
        "print('The accuracy score with the validation set:', model_rfgs.score(X_val,y_val))"
      ],
      "execution_count": null,
      "outputs": [
        {
          "output_type": "stream",
          "text": [
            "The best params: {'randomforestclassifier__max_depth': 30, 'randomforestclassifier__n_estimators': 90, 'simpleimputer__strategy': 'mean'}\n",
            "The best accuracy score for the grid search is: 0.805111111111111\n",
            "The accuracy score with the validation set: 0.8238333333333333\n"
          ],
          "name": "stdout"
        }
      ]
    },
    {
      "cell_type": "markdown",
      "metadata": {
        "id": "YqDKoGFbtWvL"
      },
      "source": [
        "**`RandomizedSearchCV`:** Quicker, less effective but usually good enough."
      ]
    },
    {
      "cell_type": "code",
      "metadata": {
        "colab": {
          "base_uri": "https://localhost:8080/"
        },
        "id": "YpBisnqdte8k",
        "outputId": "c612d94a-e70f-4964-bb91-e7feea46a628"
      },
      "source": [
        "model_rfrs = RandomizedSearchCV(clf, \n",
        "                               param_distributions = param_grid,\n",
        "                               n_iter = 15,\n",
        "                               cv = 5,\n",
        "                               n_jobs = -1,\n",
        "                               verbose = 1)\n",
        "model_rfrs.fit(X_train,y_train)"
      ],
      "execution_count": null,
      "outputs": [
        {
          "output_type": "stream",
          "text": [
            "Fitting 5 folds for each of 15 candidates, totalling 75 fits\n"
          ],
          "name": "stdout"
        },
        {
          "output_type": "stream",
          "text": [
            "[Parallel(n_jobs=-1)]: Using backend LokyBackend with 2 concurrent workers.\n",
            "[Parallel(n_jobs=-1)]: Done  46 tasks      | elapsed:   29.8s\n",
            "[Parallel(n_jobs=-1)]: Done  75 out of  75 | elapsed:   58.7s finished\n",
            "/usr/local/lib/python3.7/dist-packages/category_encoders/utils.py:21: FutureWarning: is_categorical is deprecated and will be removed in a future version.  Use is_categorical_dtype instead\n",
            "  elif pd.api.types.is_categorical(cols):\n"
          ],
          "name": "stderr"
        },
        {
          "output_type": "execute_result",
          "data": {
            "text/plain": [
              "RandomizedSearchCV(cv=5, error_score=nan,\n",
              "                   estimator=Pipeline(memory=None,\n",
              "                                      steps=[('onehotencoder',\n",
              "                                              OneHotEncoder(cols=None,\n",
              "                                                            drop_invariant=False,\n",
              "                                                            handle_missing='value',\n",
              "                                                            handle_unknown='value',\n",
              "                                                            return_df=True,\n",
              "                                                            use_cat_names=False,\n",
              "                                                            verbose=0)),\n",
              "                                             ('simpleimputer',\n",
              "                                              SimpleImputer(add_indicator=False,\n",
              "                                                            copy=True,\n",
              "                                                            fill_value=None,\n",
              "                                                            missing_values=nan,\n",
              "                                                            strategy='mean',\n",
              "                                                            verbo...\n",
              "                                                                     verbose=0,\n",
              "                                                                     warm_start=False))],\n",
              "                                      verbose=False),\n",
              "                   iid='deprecated', n_iter=15, n_jobs=-1,\n",
              "                   param_distributions={'randomforestclassifier__max_depth': range(5, 35, 5),\n",
              "                                        'randomforestclassifier__n_estimators': range(10, 100, 10),\n",
              "                                        'simpleimputer__strategy': ['median',\n",
              "                                                                    'mean']},\n",
              "                   pre_dispatch='2*n_jobs', random_state=None, refit=True,\n",
              "                   return_train_score=False, scoring=None, verbose=1)"
            ]
          },
          "metadata": {},
          "execution_count": 50
        }
      ]
    },
    {
      "cell_type": "code",
      "metadata": {
        "colab": {
          "base_uri": "https://localhost:8080/"
        },
        "id": "v9fCGGlRtkJn",
        "outputId": "726c3739-23fc-454c-c633-785feca72db2"
      },
      "source": [
        "print('The best params:', model_rfrs.best_params_)\n",
        "print('The best accuracy score for the random search is:', model_rfrs.best_score_)\n",
        "print('The accuracy score with the validation set:', model_rfrs.score(X_val,y_val))\n"
      ],
      "execution_count": null,
      "outputs": [
        {
          "output_type": "stream",
          "text": [
            "The best params: {'simpleimputer__strategy': 'mean', 'randomforestclassifier__n_estimators': 90, 'randomforestclassifier__max_depth': 30}\n",
            "The best accuracy score for the random search is: 0.805111111111111\n",
            "The accuracy score with the validation set: 0.8238333333333333\n"
          ],
          "name": "stdout"
        }
      ]
    },
    {
      "cell_type": "code",
      "metadata": {
        "colab": {
          "base_uri": "https://localhost:8080/"
        },
        "id": "FYtGFwl4iatk",
        "outputId": "0f2c3034-216b-4a76-9217-477d684efdd9"
      },
      "source": [
        "print('The accuracy score with the test set:', model_rfrs.score(X_test,y_test))"
      ],
      "execution_count": null,
      "outputs": [
        {
          "output_type": "stream",
          "text": [
            "The accuracy score with the test set: 0.8176666666666667\n"
          ],
          "name": "stdout"
        }
      ]
    },
    {
      "cell_type": "markdown",
      "metadata": {
        "id": "PuCTo3dvKhBr"
      },
      "source": [
        "## VI. Importance"
      ]
    },
    {
      "cell_type": "markdown",
      "metadata": {
        "id": "FuRg_ktNvJgB"
      },
      "source": [
        "### Logistic Regression"
      ]
    },
    {
      "cell_type": "code",
      "metadata": {
        "colab": {
          "base_uri": "https://localhost:8080/",
          "height": 265
        },
        "id": "31mY0FReKo21",
        "outputId": "b21404ba-7c3c-450b-b979-f3b76ee3db89"
      },
      "source": [
        "feature_importance = abs(pd.Series(model_lr['logisticregression'].coef_[0], index = model_lr['onehotencoder'].get_feature_names())).sort_values()\n",
        "feature_importance.tail(10).plot(kind = 'barh')\n",
        "plt.show()"
      ],
      "execution_count": null,
      "outputs": [
        {
          "output_type": "display_data",
          "data": {
            "image/png": "[encoded data removed]",
            "text/plain": [
              "<Figure size 432x288 with 1 Axes>"
            ]
          },
          "metadata": {
            "needs_background": "light"
          }
        }
      ]
    },
    {
      "cell_type": "markdown",
      "metadata": {
        "id": "rcE3sjPQvOLq"
      },
      "source": [
        "### Decision Tree"
      ]
    },
    {
      "cell_type": "code",
      "metadata": {
        "colab": {
          "base_uri": "https://localhost:8080/",
          "height": 282
        },
        "id": "a-SnRDQvLN4f",
        "outputId": "2675edb1-e475-4dfc-bd34-9099f8aa0470"
      },
      "source": [
        "features = model_dt.named_steps['onehotencoder'].get_feature_names()\n",
        "gini = model_dt.named_steps['decisiontreeclassifier'].feature_importances_\n",
        "pd.Series(data=gini,index=features).sort_values(key=abs).tail(10).plot(kind='barh')"
      ],
      "execution_count": null,
      "outputs": [
        {
          "output_type": "execute_result",
          "data": {
            "text/plain": [
              "<matplotlib.axes._subplots.AxesSubplot at 0x7feba40f9750>"
            ]
          },
          "metadata": {},
          "execution_count": 56
        },
        {
          "output_type": "display_data",
          "data": {
            "image/png": "[encoded data removed]",
            "text/plain": [
              "<Figure size 432x288 with 1 Axes>"
            ]
          },
          "metadata": {
            "needs_background": "light"
          }
        }
      ]
    },
    {
      "cell_type": "markdown",
      "metadata": {
        "id": "OnHgJcbxvTCk"
      },
      "source": [
        "### Random Forest"
      ]
    },
    {
      "cell_type": "code",
      "metadata": {
        "colab": {
          "base_uri": "https://localhost:8080/",
          "height": 265
        },
        "id": "7_VorIH6LSnT",
        "outputId": "0a6c4c50-c35e-436e-bd47-4088efcce389"
      },
      "source": [
        "importance = model_rf.named_steps['randomforestclassifier'].feature_importances_\n",
        "features = model_rf.named_steps['onehotencoder'].get_feature_names()\n",
        "feat_imp = pd.Series(importance,index=features).sort_values(key=abs).tail(10).plot(kind='barh')"
      ],
      "execution_count": null,
      "outputs": [
        {
          "output_type": "display_data",
          "data": {
            "image/png": "[encoded data removed]",
            "text/plain": [
              "<Figure size 432x288 with 1 Axes>"
            ]
          },
          "metadata": {
            "needs_background": "light"
          }
        }
      ]
    },
    {
      "cell_type": "markdown",
      "metadata": {
        "id": "z7_cG3N3vWIM"
      },
      "source": [
        "### Random Forest Grid Search"
      ]
    },
    {
      "cell_type": "code",
      "metadata": {
        "id": "ZQ1l9ZsJMbXi",
        "colab": {
          "base_uri": "https://localhost:8080/",
          "height": 350
        },
        "outputId": "a5d05362-df0d-43d6-af89-bf4afe829fc9"
      },
      "source": [
        "best_estimator = model_rfgs.best_estimator_\n",
        "importances = best_estimator.named_steps['randomforestclassifier'].feature_importances_\n",
        "features = model_rf.named_steps['onehotencoder'].get_feature_names()\n",
        "print(features,importances)\n",
        "feat_imp = pd.Series(importances, index=features).sort_values(key=abs).tail(10)\n",
        "feat_imp.plot(kind='barh')\n",
        "plt.xlabel('Reduction in Gini Impurity');"
      ],
      "execution_count": null,
      "outputs": [
        {
          "output_type": "stream",
          "text": [
            "['Transaction_id', 'Amount', 'Time_seconds', 'Time_days', 'Weekday_Tuesday', 'Weekday_Wednesday', 'Weekday_Friday', 'Weekday_Thursday', 'Weekday_Sunday', 'Weekday_Monday', 'Weekday_Saturday', 'Customer_last_transaction_amount', 'Time_since_last_cust_transaction'] [0.13616302 0.3299881  0.13530957 0.057518   0.00523935 0.00520329\n",
            " 0.00509226 0.00437742 0.0051055  0.00496492 0.00563143 0.17258882\n",
            " 0.13281829]\n"
          ],
          "name": "stdout"
        },
        {
          "output_type": "display_data",
          "data": {
            "image/png": "[encoded data removed]",
            "text/plain": [
              "<Figure size 432x288 with 1 Axes>"
            ]
          },
          "metadata": {
            "needs_background": "light"
          }
        }
      ]
    },
    {
      "cell_type": "markdown",
      "metadata": {
        "id": "c11bqILxvZo_"
      },
      "source": [
        "### Random Forest Random Estimator"
      ]
    },
    {
      "cell_type": "code",
      "metadata": {
        "colab": {
          "base_uri": "https://localhost:8080/",
          "height": 279
        },
        "id": "yWjXUvwguxTe",
        "outputId": "45ba9daa-9f95-4070-e5d9-c07e650d00b3"
      },
      "source": [
        "best_estimator = model_rfrs.best_estimator_\n",
        "importances = best_estimator.named_steps['randomforestclassifier'].feature_importances_\n",
        "features = model_rf.named_steps['onehotencoder'].get_feature_names()\n",
        "feat_imp = pd.Series(importances, index=features).sort_values(key=abs).tail(15)\n",
        "feat_imp.plot(kind='barh')\n",
        "plt.xlabel('Reduction in Gini Impurity');"
      ],
      "execution_count": null,
      "outputs": [
        {
          "output_type": "display_data",
          "data": {
            "image/png": "[encoded data removed]",
            "text/plain": [
              "<Figure size 432x288 with 1 Axes>"
            ]
          },
          "metadata": {
            "needs_background": "light"
          }
        }
      ]
    },
    {
      "cell_type": "markdown",
      "metadata": {
        "id": "oovK5x4dIvow"
      },
      "source": [
        "# How to save a trained model to reuse it in the future"
      ]
    },
    {
      "cell_type": "code",
      "metadata": {
        "id": "k_CkvC5uIvox"
      },
      "source": [
        "# #save model\n",
        "# import pickle\n",
        "# filename = 'accuracy_80perc'\n",
        "# pickle.dump(model_rf,open(filename,'wb'))\n",
        "\n",
        "# #load model\n",
        "# model_rf = pickle.load(open(filename,'rb'))"
      ],
      "execution_count": null,
      "outputs": []
    }
  ]
}